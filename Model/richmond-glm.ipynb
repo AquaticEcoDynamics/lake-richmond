{
 "cells": [
  {
   "cell_type": "markdown",
   "metadata": {},
   "source": [
    "____ \n",
    "### Getting started : Setting up our notebook for modelling lake ecosystems"
   ]
  },
  {
   "cell_type": "markdown",
   "metadata": {},
   "source": [
    "Our notebook is going to use [`glm-py`](https://github.com/AquaticEcoDynamics/glm-py) to control the lake ecosystem model [`GLM-AED`](https://github.com/AquaticEcoDynamics/glm-aed). We first setup the notebook by cloning the workshop materials and installing the local version of `glm-py` that is included within this repo. "
   ]
  },
  {
   "cell_type": "code",
   "execution_count": null,
   "metadata": {},
   "outputs": [],
   "source": [
    "!apt update && apt-get install -y libnetcdf-dev libgd-dev\n",
    "!mkdir -p glmpy\n",
    "!git clone --depth 1 --filter=blob:none --sparse https://github.com/AquaticEcoDynamics/efi-workshop\n",
    "!cd efi-workshop && git sparse-checkout set glmpy case_studies && cp -r glmpy ../ && cp -r case_studies ../ && cd .. && rm -rf efi-workshop\n",
    "!curl https://raw.githubusercontent.com/AquaticEcoDynamics/efi-workshop/refs/heads/main/requirements.txt --output requirements.txt\n",
    "!pip install -r requirements.txt\n",
    "!curl https://raw.githubusercontent.com/AquaticEcoDynamics/efi-workshop/refs/heads/main/bin/glm_3.3.3_linux_x86_64 --output glm\n",
    "!chmod +x glm\n",
    "!pip install -e glmpy"
   ]
  },
  {
   "cell_type": "markdown",
   "metadata": {},
   "source": [
    "For running GLM-AED models and making the necessary plots, we use `pandas` and `matplotlib`. For this activity we also are able to benefit from the `example_sims` class in `glm-py`. The `example_sims` module provides prebuilt `GLMSim` objects that can be run immediately. The example we use as our template for this activity is `SparklingSim`. "
   ]
  },
  {
   "cell_type": "code",
   "execution_count": null,
   "metadata": {},
   "outputs": [],
   "source": [
    "import pandas as pd\n",
    "import matplotlib.pyplot as plt\n",
    "import matplotlib.dates as mdates\n",
    "\n",
    "from glmpy import plots\n",
    "from glmpy.nml import nml, glm_nml, aed_nml\n",
    "from glmpy.example_sims import SparklingSim"
   ]
  },
  {
   "cell_type": "markdown",
   "metadata": {},
   "source": [
    "____ \n",
    "### Running `SparklingSim`"
   ]
  },
  {
   "cell_type": "markdown",
   "metadata": {},
   "source": [
    "`SparklingSim` is a pre-configured [GLM simulation of Sparkling Lake](https://github.com/AquaticEcoDynamics/glm-aed/tree/main/glm-examples/Sparkling), which is located in Wisconsin. glm-py's `GLMSim` object describes a GLM simulation and is responsible for storing all the model data (parameters and boundary condition data) and providing methods needed to run and modify the simulation. As the SparklingSim is a fully contained simulation \"object\", it brings together simulation configuration details, boundary conditions that have been pre-configured. <br><br> Let's get started by initialising an instance of the `SparklingSim` class to get started:  "
   ]
  },
  {
   "cell_type": "code",
   "execution_count": null,
   "metadata": {},
   "outputs": [],
   "source": [
    "sparkling = SparklingSim(sim_name=\"sparkling\")"
   ]
  },
  {
   "cell_type": "markdown",
   "metadata": {},
   "source": [
    "Running the simulation is as simple as calling the `run()` method (this is a method of the GLMSim class):"
   ]
  },
  {
   "cell_type": "code",
   "execution_count": null,
   "metadata": {},
   "outputs": [],
   "source": [
    "sparkling.run(time_sim=True, write_log=True)"
   ]
  },
  {
   "cell_type": "markdown",
   "metadata": {},
   "source": [
    "FYI ... if you want to find more options in any of the methods within the glm-py package, then refer to the [API reference](https://aquaticecodynamics.github.io/glm-py/simulation/.)"
   ]
  },
  {
   "cell_type": "markdown",
   "metadata": {},
   "source": [
    "As this above call is configured, it will direct GLM's run log information to `glm.log`. We can double click on this file to check the model ran as expected (find this file by navigating the file system to the left, and enter into the `sparkling` folder)."
   ]
  },
  {
   "cell_type": "markdown",
   "metadata": {},
   "source": [
    "____ \n",
    "### Plotting the lake simulation outputs"
   ]
  },
  {
   "cell_type": "markdown",
   "metadata": {},
   "source": [
    "`GLM` has a range of options for working with the model's results. For new users to GLM, you can refer to this summary of GLM's output file options in this page in the ['glm-workbook'](https://aquaticecodynamics.github.io/glm-workbook/glm-file-structure.html#glm-output-files). In short, we have 3 main files to explore - the `lake.csv` summary file, the outputs configured at a specific depth (e.g., `WQ_zzz.csv`), and the main `output.nc` file which contains full set of model results."
   ]
  },
  {
   "cell_type": "markdown",
   "metadata": {},
   "source": [
    "glm-py's `plots` module provides a collection of classes for plotting these GLM outputs with matplotlib. The `LakePlotter` class provides methods for plotting GLM's `lake.csv` output. Initialise an instance of `LakePlotter` by providing the path to the `lake.csv` output. The outputs of calling run are saved in a directory that matches the sim_name attribute, so that is where the file is found."
   ]
  },
  {
   "cell_type": "markdown",
   "metadata": {},
   "source": [
    "<em>Load `lake.csv`</em>:"
   ]
  },
  {
   "cell_type": "code",
   "execution_count": null,
   "metadata": {},
   "outputs": [],
   "source": [
    "lake = plots.LakePlotter(\"sparkling/output/lake.csv\")"
   ]
  },
  {
   "cell_type": "markdown",
   "metadata": {},
   "source": [
    "To get started with understanding the lake, we can explore the main lake water balance. You can refer to this summary of GLM's water balance outputs in the ['glm-workbook'](https://aquaticecodynamics.github.io/glm-workbook/WaterBalance.html), for additional background if needed."
   ]
  },
  {
   "cell_type": "markdown",
   "metadata": {},
   "source": [
    "The `lake_volume()` method is used for creating a line plot of the lake volume (in m^3). We can call the method by providing a matplotlib `Axes` object to plot."
   ]
  },
  {
   "cell_type": "markdown",
   "metadata": {},
   "source": [
    "<em>Plot time-series of the lake's volume</em>:"
   ]
  },
  {
   "cell_type": "code",
   "execution_count": null,
   "metadata": {},
   "outputs": [],
   "source": [
    "fig, ax = plt.subplots(figsize=(10, 5))\n",
    "lake.lake_volume(ax=ax)"
   ]
  },
  {
   "cell_type": "markdown",
   "metadata": {},
   "source": [
    "The `water_balance_components()` method is used to create a summary of the daily inflow, outflow, overflow, evaporation, rainfall, local runoff, and snowfall (m^3/day). Parameters for matplotlib's `plot` method can be set for each water balance component by providing a dictionary of keyword arguments."
   ]
  },
  {
   "cell_type": "markdown",
   "metadata": {},
   "source": [
    "<em>Plot water balance components</em>:"
   ]
  },
  {
   "cell_type": "code",
   "execution_count": null,
   "metadata": {},
   "outputs": [],
   "source": [
    "fig, ax = plt.subplots(figsize=(10, 5))\n",
    "out = lake.water_balance_components(\n",
    "    ax=ax, \n",
    "    rain_params={\"linestyle\": \"--\"},\n",
    "    local_runoff_params=None, \n",
    "    overflow_vol_params=None,\n",
    "    snowfall_params=None\n",
    ")\n",
    "ax.legend(handles=out)"
   ]
  },
  {
   "cell_type": "markdown",
   "metadata": {},
   "source": [
    "More advanced plots can be created by combining LakePlotter's various plot methods:"
   ]
  },
  {
   "cell_type": "code",
   "execution_count": null,
   "metadata": {},
   "outputs": [],
   "source": [
    "fig, ax = plt.subplots(2, 2, figsize=(15, 15))\n",
    "date_formatter = mdates.DateFormatter(\"%m/%y\")\n",
    "\n",
    "out = lake.water_balance(ax=ax[0, 0])\n",
    "ax[0, 0].xaxis.set_major_formatter(date_formatter)\n",
    "out = lake.water_balance_components(\n",
    "    ax=ax[0,1], \n",
    "    local_runoff_params=None, \n",
    "    overflow_vol_params=None,\n",
    "    snowfall_params=None\n",
    ")\n",
    "ax[0, 1].legend(handles=out, ncols=2, loc=0)\n",
    "ax[0, 1].xaxis.set_major_formatter(date_formatter)\n",
    "out = lake.lake_temp(ax[1, 0])\n",
    "ax[1, 0].legend(handles=out, ncols=2, loc=0)\n",
    "ax[1, 0].xaxis.set_major_formatter(date_formatter)\n",
    "out = lake.heat_balance_components(ax[1, 1])\n",
    "ax[1, 1].legend(handles=out, ncols=2, loc=0)\n",
    "ax[1, 1].xaxis.set_major_formatter(date_formatter)"
   ]
  },
  {
   "cell_type": "markdown",
   "metadata": {},
   "source": [
    "Feel free to customise plots, and further explore other outputs in `lake.csv`."
   ]
  },
  {
   "cell_type": "markdown",
   "metadata": {},
   "source": [
    "Now let's turn our attention to the main output, the NetCDF file `output.nc`. The `NCPlotter` class of the `plots` module can be used to load and plot an output variable for all depths and timesteps of the simulation. This class is initialised by providing a path to the `output.nc` NetCDF file."
   ]
  },
  {
   "cell_type": "markdown",
   "metadata": {},
   "source": [
    "<em>Load `output.nc` file</em>:"
   ]
  },
  {
   "cell_type": "code",
   "execution_count": null,
   "metadata": {},
   "outputs": [],
   "source": [
    "nc = plots.NCPlotter(\"richmond/output/output.nc\")"
   ]
  },
  {
   "cell_type": "markdown",
   "metadata": {},
   "source": [
    "<em>Plot the temperature</em>:"
   ]
  },
  {
   "cell_type": "code",
   "execution_count": null,
   "metadata": {},
   "outputs": [],
   "source": [
    "fig, ax = plt.subplots(figsize=(12, 10))\n",
    "out = nc.plot_var_profile(ax=ax, var=\"temp\")\n",
    "col_bar = fig.colorbar(out)\n",
    "col_bar.set_label(\"Temperature (°C)\")"
   ]
  },
  {
   "cell_type": "markdown",
   "metadata": {},
   "source": [
    "`NCPlotter` also provides methods to assist with automating the plotting of variables:\n",
    "\n",
    "- `get_profile_vars` returns a list of variables that can be plotted with `plot_var_profile`\n",
    "- `get_long_name` returns the unabbreviated name of a variable\n",
    "- `get_units` returns the units of a variable"
   ]
  },
  {
   "cell_type": "markdown",
   "metadata": {},
   "source": [
    "<em>Check the other variables available</em>:"
   ]
  },
  {
   "cell_type": "code",
   "execution_count": null,
   "metadata": {},
   "outputs": [],
   "source": [
    "vars = nc.get_profile_vars()\n",
    "vars"
   ]
  },
  {
   "cell_type": "markdown",
   "metadata": {},
   "source": [
    "<em>Create a multi-panel with 4 of the output variables</em>:"
   ]
  },
  {
   "cell_type": "code",
   "execution_count": null,
   "metadata": {},
   "outputs": [],
   "source": [
    "plot_vars = vars[3:7]     # returns the variables: ['salt', 'temp', 'dens','radn']\n",
    "fig, axs = plt.subplots(nrows=4, ncols=1, figsize=(10, 14))\n",
    "for idx, var, in enumerate(plot_vars):\n",
    "    out = nc.plot_var_profile(axs[idx], var)\n",
    "    long_name = nc.get_long_name(var)\n",
    "    units = nc.get_units(var)\n",
    "    col_bar = fig.colorbar(out)\n",
    "    col_bar.set_label(f\"{long_name} ({units})\")"
   ]
  },
  {
   "cell_type": "markdown",
   "metadata": {},
   "source": [
    "____ \n",
    "### Inspecting the NML, getting and setting configuration options"
   ]
  },
  {
   "cell_type": "markdown",
   "metadata": {},
   "source": [
    "The `nml` attribute of a `GLMSim` object is resposible for storing all the model parameters found in `.nml` files. These parameters are represented as `NMLParam` objects that are stored in a hierarchical structure of `NMLBlock` objects and `NML` objects. Individual parameters can be accessed directly on the `GLMSim` object using the following syntax:"
   ]
  },
  {
   "cell_type": "code",
   "execution_count": null,
   "metadata": {},
   "outputs": [],
   "source": [
    "sparkling.nml[\"glm\"].blocks[\"glm_setup\"].params[\"min_layer_vol\"].value"
   ]
  },
  {
   "cell_type": "code",
   "execution_count": null,
   "metadata": {},
   "outputs": [],
   "source": [
    "sparkling.nml[\"glm\"].blocks[\"glm_setup\"].params[\"min_layer_vol\"].value = 1.0"
   ]
  },
  {
   "cell_type": "markdown",
   "metadata": {},
   "source": [
    "For a less verbose syntax, parameter values can also be accessed using the `get_param_value()` and `set_param_value()` methods:"
   ]
  },
  {
   "cell_type": "code",
   "execution_count": null,
   "metadata": {},
   "outputs": [],
   "source": [
    "sparkling.set_param_value(\"glm\", \"glm_setup\", \"min_layer_vol\", 0.5)"
   ]
  },
  {
   "cell_type": "code",
   "execution_count": null,
   "metadata": {},
   "outputs": [],
   "source": [
    "sparkling.get_param_value(\"glm\", \"glm_setup\", \"min_layer_vol\")"
   ]
  },
  {
   "cell_type": "markdown",
   "metadata": {},
   "source": [
    "Blocks of parameters (`NMLBlock` objects) can also be accessed directly via attributes or using the `get_block()` and `set_block()` methods. The `to_dict()` method returns a dictionary representation of the block's parameters:"
   ]
  },
  {
   "cell_type": "code",
   "execution_count": null,
   "metadata": {},
   "outputs": [],
   "source": [
    "sparkling.nml[\"glm\"].blocks[\"glm_setup\"].to_dict()"
   ]
  },
  {
   "cell_type": "code",
   "execution_count": null,
   "metadata": {},
   "outputs": [],
   "source": [
    "sparkling.get_block(\"glm\", \"glm_setup\").to_dict()"
   ]
  },
  {
   "cell_type": "markdown",
   "metadata": {},
   "source": [
    "`NML` objects, that store a collection of `NMLBlock` objects, can be accessed in a similar way:"
   ]
  },
  {
   "cell_type": "code",
   "execution_count": null,
   "metadata": {},
   "outputs": [],
   "source": [
    "sparkling.nml[\"glm\"].to_dict()"
   ]
  },
  {
   "cell_type": "code",
   "execution_count": null,
   "metadata": {},
   "outputs": [],
   "source": [
    "sparkling.get_nml(\"glm\").to_dict()"
   ]
  },
  {
   "cell_type": "markdown",
   "metadata": {},
   "source": [
    "____ \n",
    "### Inspecting the boundary conditions"
   ]
  },
  {
   "cell_type": "markdown",
   "metadata": {},
   "source": [
    "All boundary conditions files needed to run a GLM simulation are stored in the `bcs` attribute. `bcs` is a dictionary where the key is the output file name (without the file extension), and the value is a Pandas `DataFrame` object:"
   ]
  },
  {
   "cell_type": "code",
   "execution_count": null,
   "metadata": {},
   "outputs": [],
   "source": [
    "sparkling.bcs['nldas_driver']"
   ]
  },
  {
   "cell_type": "markdown",
   "metadata": {},
   "source": [
    "Boundary condition dataframes can be modified using the Pandas API:"
   ]
  },
  {
   "cell_type": "code",
   "execution_count": null,
   "metadata": {},
   "outputs": [],
   "source": [
    "sparkling.bcs['nldas_driver']['ShortWave'] = sparkling.bcs['nldas_driver']['ShortWave'] * 2\n",
    "sparkling.bcs['nldas_driver']"
   ]
  },
  {
   "cell_type": "code",
   "execution_count": null,
   "metadata": {},
   "outputs": [],
   "source": [
    "sparkling.bcs['nldas_driver']['ShortWave'] = sparkling.bcs['nldas_driver']['ShortWave'] / 2\n",
    "sparkling.bcs['nldas_driver']\n"
   ]
  },
  {
   "cell_type": "markdown",
   "metadata": {},
   "source": [
    "____ \n",
    "### Adding AED to enable water quality and ecology in the model"
   ]
  },
  {
   "cell_type": "markdown",
   "metadata": {},
   "source": [
    "`SparklingSim` currently lacks the `wq_setup` block, which goes in the main `glm.nml` file. This is needed to \"trigger\" GLM to engage the AED model and specifies where the model can find the AED configuration file:"
   ]
  },
  {
   "cell_type": "code",
   "execution_count": null,
   "metadata": {},
   "outputs": [],
   "source": [
    "print(sparkling.get_block(nml_name=\"glm\", block_name=\"wq_setup\"))"
   ]
  },
  {
   "cell_type": "markdown",
   "metadata": {},
   "source": [
    "We can create a `NMLBlock` object for `wq_setup` using the `WQSetupBlock` class in the `glm_nml` module:"
   ]
  },
  {
   "cell_type": "code",
   "execution_count": null,
   "metadata": {},
   "outputs": [],
   "source": [
    "wq_setup = glm_nml.WQSetupBlock(\n",
    "    wq_lib=\"aed\",\n",
    "    wq_nml_file='aed/aed.nml',\n",
    "    ode_method=1,\n",
    "    split_factor=1,\n",
    "    bioshade_feedback=True,\n",
    "    repair_state=True,\n",
    ")"
   ]
  },
  {
   "cell_type": "markdown",
   "metadata": {},
   "source": [
    "Next, we assign the block to the `GLMNML` object:"
   ]
  },
  {
   "cell_type": "code",
   "execution_count": null,
   "metadata": {},
   "outputs": [],
   "source": [
    "sparkling.set_block(nml_name=\"glm\", block=wq_setup)"
   ]
  },
  {
   "cell_type": "markdown",
   "metadata": {},
   "source": [
    "Now `GLM` is primed to be ready to engage AED when we run the simulation next. Once this block is enabled we need to be sure that `aed/aed.nml` is available and configured in the SparklingSim object. We will do this separately for each case study below ..."
   ]
  },
  {
   "cell_type": "markdown",
   "metadata": {},
   "source": [
    "### Adding depth specific WQ outputs"
   ]
  },
  {
   "cell_type": "markdown",
   "metadata": {},
   "source": [
    "But first, lets ask GLM to write out the relevant WQ variables that we wish to plot in the specific-depth csv file; change the `vars`"
   ]
  },
  {
   "cell_type": "code",
   "execution_count": null,
   "metadata": {},
   "outputs": [],
   "source": [
    "output = glm_nml.OutputBlock(\n",
    "    out_dir=\"output\",\n",
    "    out_fn=\"output\",\n",
    "    nsave=24,\n",
    "    csv_lake_fname=\"lake\",\n",
    "    csv_point_nlevs=2,\n",
    "    csv_point_fname=\"WQ_\",\n",
    "    csv_point_at=[3.0, 17.0],  # One at the top and one at the bottom\n",
    "    csv_point_nvars=3,\n",
    "    csv_point_vars=[\"temp\", \"salt\", \"OXY_oxy\"],\n",
    ")\n",
    "sparkling.set_block(nml_name=\"glm\", block=output)"
   ]
  },
  {
   "cell_type": "markdown",
   "metadata": {},
   "source": [
    "____ \n",
    "### Case 1 : Let's start by adding a single AED module, simulating oxygen "
   ]
  },
  {
   "cell_type": "markdown",
   "metadata": {},
   "source": [
    "Our AED configuration to start is a simple 1 variable model ($O_2$), simulating two processes (atmospheric and sediment dissolved oxygen exchange). Rather than setting all the parameters individually, we can load in the `aed_case1.json` file that contains the AED configuration for this simulation setup. We will use `NMLReader` to read the JSON file and contruct the desired `AEDNML` object that can be added to the `GLMSim` object:"
   ]
  },
  {
   "cell_type": "code",
   "execution_count": null,
   "metadata": {},
   "outputs": [],
   "source": [
    "nml_file = nml.NMLReader(\"case_studies/aed_case1.json\")\n",
    "aed_nml_obj = nml_file.to_nml_obj(aed_nml.AEDNML)\n",
    "print(type(aed_nml_obj))"
   ]
  },
  {
   "cell_type": "markdown",
   "metadata": {},
   "source": [
    "Let's check the simulation now includes our AED (oxygen) outputs:"
   ]
  },
  {
   "cell_type": "code",
   "execution_count": null,
   "metadata": {},
   "outputs": [],
   "source": [
    "sparkling.set_nml(aed_nml_obj)\n",
    "sparkling.get_param_value(\"aed\", \"aed_models\", \"models\")"
   ]
  },
  {
   "cell_type": "markdown",
   "metadata": {},
   "source": [
    "To avoid overwriting the previous Sparkling outputs, change the `sim_name` attribute. This will set the name of simulation output directory and update the `sim_name` parameter in the `glm_setup` block:"
   ]
  },
  {
   "cell_type": "code",
   "execution_count": null,
   "metadata": {},
   "outputs": [],
   "source": [
    "sparkling.sim_name = \"case_1\""
   ]
  },
  {
   "cell_type": "markdown",
   "metadata": {},
   "source": [
    "Re-run the simulation, now that AED is enabled:"
   ]
  },
  {
   "cell_type": "code",
   "execution_count": null,
   "metadata": {},
   "outputs": [],
   "source": [
    "sparkling.run(time_sim=True, write_log=True)"
   ]
  },
  {
   "cell_type": "markdown",
   "metadata": {},
   "source": [
    "You can check the new configuration details by opening the glm.log file, which has the simulation information including the list of simulated AED variables."
   ]
  },
  {
   "cell_type": "markdown",
   "metadata": {},
   "source": [
    "To create a time-depth contour plot for Case 1, change the `glm_nc` attribute of the `NCPlotter` class you initialised earlier:"
   ]
  },
  {
   "cell_type": "code",
   "execution_count": null,
   "metadata": {},
   "outputs": [],
   "source": [
    "nc.glm_nc = \"case_1/output/output.nc\"\n",
    "nc.get_profile_vars()"
   ]
  },
  {
   "cell_type": "markdown",
   "metadata": {},
   "source": [
    "Now lets plot $O_2$ (`OXY_oxy`): "
   ]
  },
  {
   "cell_type": "code",
   "execution_count": null,
   "metadata": {},
   "outputs": [],
   "source": [
    "var = \"OXY_oxy\"\n",
    "fig, ax = plt.subplots(figsize=(10, 5))\n",
    "plot_params = {\"vmin\": 0, \"vmax\": 550}\n",
    "out = nc.plot_var_profile(ax=ax, var=var, param_dict=plot_params)\n",
    "col_bar = fig.colorbar(out)\n",
    "col_bar.set_label(f\"{nc.get_long_name(var)} ({nc.get_units(var)})\")"
   ]
  },
  {
   "cell_type": "markdown",
   "metadata": {},
   "source": [
    "We can investigate the processes controlling the sim by plotting some of the AED \"diagnostics\". See the list [here](https://aquaticecodynamics.github.io/aed-science/DO_1.html#diagnostics) for `aed_oxygen`. In this example `OXY_oxy_atmv` is the atmospheric flux of oxygen in units of $mmol\\:O_2/m^3/d$, and `OXY_oxy_dsfv` is the dissolved sediment flux of oxygen entering into a layer in units of $mmol\\:O_2/m^3/d$."
   ]
  },
  {
   "cell_type": "code",
   "execution_count": null,
   "metadata": {},
   "outputs": [],
   "source": [
    "plot_vars = ['temp', 'OXY_oxy', 'OXY_oxy_atmv','OXY_oxy_dsfv']\n",
    "fig, axs = plt.subplots(nrows=4, ncols=1, figsize=(10, 10))\n",
    "for idx, var, in enumerate(plot_vars):\n",
    "    out = nc.plot_var_profile(axs[idx], var)\n",
    "    long_name = nc.get_long_name(var)\n",
    "    units = nc.get_units(var)\n",
    "    col_bar = fig.colorbar(out)\n",
    "    col_bar.set_label(f\"{var} ({units})\")"
   ]
  },
  {
   "cell_type": "markdown",
   "metadata": {},
   "source": [
    "____ \n",
    "### Case 2 : Allow spatial (depth-based) variation in sediment-water oxygen flux -> Enabling Zones"
   ]
  },
  {
   "cell_type": "markdown",
   "metadata": {},
   "source": [
    "In the above exmaple, each GLM water layer receives the same sediment oxygen flux fro the area fo water overlying sediment. However, in reality there may be depth-dependent differences in the sediment biogeochemical properties. "
   ]
  },
  {
   "cell_type": "markdown",
   "metadata": {},
   "source": [
    "In this task we review the benthic zones configured in GLM, and ensure the AED modules are correctly configured. Start by inspecting `aed_case2.json`. What new module do you see activated in here? In particular, not how the `fsed_oxy_variable` variable is now be used to link modules."
   ]
  },
  {
   "cell_type": "code",
   "execution_count": null,
   "metadata": {},
   "outputs": [],
   "source": [
    "nml_file = nml.NMLReader(\"case_studies/aed_case2.json\")\n",
    "aed_nml_obj = nml_file.to_nml_obj(aed_nml.AEDNML)\n",
    "sparkling.set_nml(aed_nml_obj)\n",
    "sparkling.get_param_value(\"aed\", \"aed_models\", \"models\")"
   ]
  },
  {
   "cell_type": "code",
   "execution_count": null,
   "metadata": {},
   "outputs": [],
   "source": [
    "sparkling.sim_name = \"case_2\""
   ]
  },
  {
   "cell_type": "code",
   "execution_count": null,
   "metadata": {},
   "outputs": [],
   "source": [
    "sparkling.run(time_sim=True, write_log=True)"
   ]
  },
  {
   "cell_type": "code",
   "execution_count": null,
   "metadata": {},
   "outputs": [],
   "source": [
    "nc.glm_nc = \"case_2/output/output.nc\"\n",
    "nc.get_profile_vars()"
   ]
  },
  {
   "cell_type": "code",
   "execution_count": null,
   "metadata": {},
   "outputs": [],
   "source": [
    "plot_vars = ['temp', 'OXY_oxy', 'OXY_oxy_atmv','OXY_oxy_dsfv']\n",
    "fig, axs = plt.subplots(nrows=4, ncols=1, figsize=(10, 10))\n",
    "for idx, var, in enumerate(plot_vars):\n",
    "    out = nc.plot_var_profile(axs[idx], var)\n",
    "    long_name = nc.get_long_name(var)\n",
    "    units = nc.get_units(var)\n",
    "    col_bar = fig.colorbar(out)\n",
    "    col_bar.set_label(f\"{var} ({units})\")"
   ]
  },
  {
   "cell_type": "markdown",
   "metadata": {},
   "source": [
    "Noting the different $F_{sed}$ (`Fsed_oxy`) values used in each benthic zone for oxygen, how does the $O_2$ conditions now vary relative to Case 1?"
   ]
  },
  {
   "cell_type": "markdown",
   "metadata": {},
   "source": [
    "`NCPlotter` also supports plotting a variable for each sediment zone using `plot_var_zone()`. The number of sediment zones are determined by the `n_zones` parameters of the `sediment` block:"
   ]
  },
  {
   "cell_type": "code",
   "execution_count": null,
   "metadata": {},
   "outputs": [],
   "source": [
    "sparkling.get_param_value(\"glm\", \"sediment\", \"n_zones\")"
   ]
  },
  {
   "cell_type": "markdown",
   "metadata": {},
   "source": [
    "To find the variables that can be plotted with `plot_var_zone()`. Call the `get_zone_vars()` method:"
   ]
  },
  {
   "cell_type": "code",
   "execution_count": null,
   "metadata": {},
   "outputs": [],
   "source": [
    "nc.get_zone_vars()"
   ]
  },
  {
   "cell_type": "markdown",
   "metadata": {},
   "source": [
    "Plot a variable for specific zone by providing `plot_var_zone` with the `Axes` object, the variable name, the zone number, and any additional keyword arguments that will by passed to matplotlib's `plot()` method:"
   ]
  },
  {
   "cell_type": "code",
   "execution_count": null,
   "metadata": {},
   "outputs": [],
   "source": [
    "fig, ax = plt.subplots(figsize=(10, 5))\n",
    "nc.plot_var_zone(ax=ax, var=\"OXY_oxy_dsf_Z\", zone=1, param_dict={\"label\": \"Zone 1\"})\n",
    "nc.plot_var_zone(ax, \"OXY_oxy_dsf_Z\", 2, {\"label\": \"Zone 2\"})\n",
    "nc.plot_var_zone(ax, \"OXY_oxy_dsf_Z\", 3, {\"label\": \"Zone 3\"})\n",
    "ax.legend()"
   ]
  },
  {
   "cell_type": "markdown",
   "metadata": {},
   "source": [
    "One thing we can do now is compare the two case-studies, and look at the surface and bottom $O_2$ concentrations (i.e. with and without the spatially variable sediment oxygen demand)."
   ]
  },
  {
   "cell_type": "code",
   "execution_count": null,
   "metadata": {},
   "outputs": [],
   "source": [
    "fig, ax = plt.subplots(figsize=(10, 5))\n",
    "wq = plots.WQPlotter()                                    # SEE BELOW SECTION ON WQ_PLOTTER\n",
    "for i in range(1, 3):\n",
    "    wq.wq_csv = f\"case_{i}/output/WQ_17.csv\"                      # SURFACE\n",
    "    wq.plot_var(ax, \"OXY_oxy\", {\"label\": f\"Case {i} Surface O2\"}) # OXYGEN\n",
    "for i in range(1, 3):\n",
    "    wq.wq_csv = f\"case_{i}/output/WQ_3.csv\"                       # BOTTOM\n",
    "    wq.plot_var(ax, \"OXY_oxy\", {\"label\": f\"Case {i} Bottom O2\"})  # OXYGEN\n",
    "ax.legend()"
   ]
  },
  {
   "cell_type": "markdown",
   "metadata": {},
   "source": [
    "Feel free to now use the NML methods introduced above to change the number of zones and their depths, and the sediment oxygen demand values. You can click to a new code block below if you wish to experiment with this feature."
   ]
  },
  {
   "cell_type": "markdown",
   "metadata": {},
   "source": [
    "____ \n",
    "### Case 3 : Now let's try adding primary productivity -> Chl-a"
   ]
  },
  {
   "cell_type": "markdown",
   "metadata": {},
   "source": [
    "In Case 3 we'll add the phytoplankton module into the simulation. Lets first update its name:"
   ]
  },
  {
   "cell_type": "code",
   "execution_count": null,
   "metadata": {},
   "outputs": [],
   "source": [
    "sparkling.sim_name = \"case_3\""
   ]
  },
  {
   "cell_type": "markdown",
   "metadata": {},
   "source": [
    "Inspect the `aed_case3.json` file, and now note that the presence of the new `aed_phytoplankton` block. You'll note with this block that all the module links (dependencies) needed for this module are set to have blank quotes, since those modules are not yet enabled. In this case, the only feedback of the $PHY$ module is to $O_2$. Now load the json config into the sim: "
   ]
  },
  {
   "cell_type": "code",
   "execution_count": null,
   "metadata": {},
   "outputs": [],
   "source": [
    "nml_file = nml.NMLReader(\"case_studies/aed_case3.json\")\n",
    "aed_nml_obj = nml_file.to_nml_obj(aed_nml.AEDNML)\n",
    "sparkling.set_nml(aed_nml_obj)\n",
    "sparkling.aed_dbase = [\"case_studies/aed_phyto_pars.csv\"]\n",
    "sparkling.get_param_value(\"aed\", \"aed_models\", \"models\")"
   ]
  },
  {
   "cell_type": "markdown",
   "metadata": {},
   "source": [
    "Before running the sim, add some of the new $PHY$ module variables that we may want to compare later into the csv file:"
   ]
  },
  {
   "cell_type": "code",
   "execution_count": null,
   "metadata": {},
   "outputs": [],
   "source": [
    "\n",
    "output = glm_nml.OutputBlock(\n",
    "    out_dir=\"output\",\n",
    "    out_fn=\"output\",\n",
    "    nsave=24,\n",
    "    csv_lake_fname=\"lake\",\n",
    "    csv_point_nlevs=2,\n",
    "    csv_point_fname=\"WQ_\",\n",
    "    csv_point_at=[3.0, 17.0],  # One at the top and one at the bottom\n",
    "    csv_point_nvars=4,\n",
    "    csv_point_vars=[\"temp\", \"salt\", \"OXY_oxy\", \"PHY_tchla\"],\n",
    ")\n",
    "sparkling.set_block(nml_name=\"glm\", block=output)"
   ]
  },
  {
   "cell_type": "code",
   "execution_count": null,
   "metadata": {},
   "outputs": [],
   "source": [
    "sparkling.run(time_sim=True, write_log=True)"
   ]
  },
  {
   "cell_type": "code",
   "execution_count": null,
   "metadata": {},
   "outputs": [],
   "source": [
    "nc.glm_nc = \"case_3/output/output.nc\"\n",
    "nc.get_profile_vars()"
   ]
  },
  {
   "cell_type": "markdown",
   "metadata": {},
   "source": [
    "Plot the results, comparing $T$, $O_2$, $PAR$ and $PHY$:"
   ]
  },
  {
   "cell_type": "code",
   "execution_count": null,
   "metadata": {},
   "outputs": [],
   "source": [
    "plot_vars = ['temp', 'OXY_oxy', 'PHY_par','PHY_tchla']\n",
    "fig, axs = plt.subplots(nrows=4, ncols=1, figsize=(10, 14))\n",
    "for idx, var, in enumerate(plot_vars):\n",
    "    out = nc.plot_var_profile(axs[idx], var)\n",
    "    long_name = nc.get_long_name(var)\n",
    "    units = nc.get_units(var)\n",
    "    col_bar = fig.colorbar(out)\n",
    "    col_bar.set_label(f\"{long_name} ({units})\")"
   ]
  },
  {
   "cell_type": "markdown",
   "metadata": {},
   "source": [
    "OK, so in this simulation what do you see in terms fo phytoplankton biomass? It may not be as you expect, so we can dig deeper and look at some diagnostics. The limitation functions for the simulated group can be a useful starting point, $\\Phi(I)$, $\\Phi(T)$, $\\Phi(N)$, $\\Phi(P)$ (see [10.3.1](https://aquaticecodynamics.github.io/aed-science/phytoplankton.html#process-descriptions-5) in the AED manual):"
   ]
  },
  {
   "cell_type": "code",
   "execution_count": null,
   "metadata": {},
   "outputs": [],
   "source": [
    "plot_vars = ['PHY_cyano_fT', 'PHY_cyano_fI', 'PHY_cyano_fNit','PHY_cyano_fPho']\n",
    "fig, axs = plt.subplots(nrows=4, ncols=1, figsize=(10, 14))\n",
    "for idx, var, in enumerate(plot_vars):\n",
    "    out = nc.plot_var_profile(axs[idx], var)\n",
    "    long_name = nc.get_long_name(var)\n",
    "    units = nc.get_units(var)\n",
    "    col_bar = fig.colorbar(out)\n",
    "    col_bar.set_label(f\"{var} ({units})\")"
   ]
  },
  {
   "cell_type": "markdown",
   "metadata": {},
   "source": [
    "____ \n",
    "### Case 4 : OK, OK,  let's do it properly with nutrients and all feedbacks -> Nutrients and Chl-a"
   ]
  },
  {
   "cell_type": "markdown",
   "metadata": {},
   "source": [
    "The above case allowed for phytoplankton growth just limited by temperature, salinity and light. In Case 4, we'll add nutrient and organic matter modules into the simulation. Inspect `aed_case4.json`, and note several new aed blocks added into the configuration. Note the variable links now configured for the phytoplankton dependencies are all set to enable the module interactions.  "
   ]
  },
  {
   "cell_type": "code",
   "execution_count": null,
   "metadata": {},
   "outputs": [],
   "source": [
    "sparkling.sim_name = \"case_4\""
   ]
  },
  {
   "cell_type": "code",
   "execution_count": null,
   "metadata": {},
   "outputs": [],
   "source": [
    "nml_file = nml.NMLReader(\"case_studies/aed_case4.json\")\n",
    "aed_nml_obj = nml_file.to_nml_obj(aed_nml.AEDNML)\n",
    "sparkling.nml[\"aed\"] = aed_nml_obj\n",
    "sparkling.aed_dbase = [\"case_studies/aed_phyto_pars.csv\"]\n",
    "sparkling.get_param_value(\"aed\", \"aed_models\", \"models\")"
   ]
  },
  {
   "cell_type": "code",
   "execution_count": null,
   "metadata": {},
   "outputs": [],
   "source": [
    "output = glm_nml.OutputBlock(\n",
    "    out_dir=\"output\",\n",
    "    out_fn=\"output\",\n",
    "    nsave=24,\n",
    "    csv_lake_fname=\"lake\",\n",
    "    csv_point_nlevs=2,\n",
    "    csv_point_fname=\"WQ_\",\n",
    "    csv_point_at=[3.0, 17.0],  # One at the top and one at the bottom\n",
    "    csv_point_nvars=5,\n",
    "    csv_point_vars=[\"temp\", \"salt\", \"OXY_oxy\", \"PHY_tchla\", \"PHS_frp\"],\n",
    ")\n",
    "sparkling.set_block(nml_name=\"glm\", block=output)"
   ]
  },
  {
   "cell_type": "code",
   "execution_count": null,
   "metadata": {},
   "outputs": [],
   "source": [
    "sparkling.run(time_sim=True, write_log=True)"
   ]
  },
  {
   "cell_type": "code",
   "execution_count": null,
   "metadata": {},
   "outputs": [],
   "source": [
    "nc.glm_nc = \"case_4/output/output.nc\"\n",
    "nc.get_profile_vars()"
   ]
  },
  {
   "cell_type": "code",
   "execution_count": null,
   "metadata": {},
   "outputs": [],
   "source": [
    "plot_vars = ['temp', 'OXY_oxy', 'PHY_tchla','PHS_frp']\n",
    "fig, axs = plt.subplots(nrows=4, ncols=1, figsize=(10, 14))\n",
    "for idx, var, in enumerate(plot_vars):\n",
    "    out = nc.plot_var_profile(axs[idx], var)\n",
    "    long_name = nc.get_long_name(var)\n",
    "    units = nc.get_units(var)\n",
    "    col_bar = fig.colorbar(out)\n",
    "    col_bar.set_label(f\"{var} ({units})\")"
   ]
  },
  {
   "cell_type": "markdown",
   "metadata": {},
   "source": [
    "As we did above, we can explore the main environmental limitation factors controlling growth:"
   ]
  },
  {
   "cell_type": "code",
   "execution_count": null,
   "metadata": {},
   "outputs": [],
   "source": [
    "plot_vars = ['PHY_cyano_fT', 'PHY_cyano_fI', 'PHY_cyano_fNit','PHY_cyano_fPho']\n",
    "fig, axs = plt.subplots(nrows=4, ncols=1, figsize=(10, 14))\n",
    "for idx, var, in enumerate(plot_vars):\n",
    "    out = nc.plot_var_profile(axs[idx], var)\n",
    "    long_name = nc.get_long_name(var)\n",
    "    units = nc.get_units(var)\n",
    "    col_bar = fig.colorbar(out)\n",
    "    col_bar.set_label(f\"{var} ({units})\")"
   ]
  },
  {
   "cell_type": "markdown",
   "metadata": {},
   "source": [
    "Which factors are limiting growth at different depths and different times?"
   ]
  },
  {
   "cell_type": "markdown",
   "metadata": {},
   "source": [
    "We can take a step further and look at the various flux pathways shaping the biomass. Below we plot gross primary productivity $GPP$, respiration $RSP$, excretion $EXC$, and mortality $MOR$:"
   ]
  },
  {
   "cell_type": "code",
   "execution_count": null,
   "metadata": {},
   "outputs": [],
   "source": [
    "plot_vars = ['PHY_cyano_gpp_c', 'PHY_cyano_rsp_c', 'PHY_cyano_exc_c','PHY_cyano_mor_c']\n",
    "fig, axs = plt.subplots(nrows=4, ncols=1, figsize=(10, 10))\n",
    "for idx, var, in enumerate(plot_vars):\n",
    "    out = nc.plot_var_profile(axs[idx], var)\n",
    "    long_name = nc.get_long_name(var)\n",
    "    units = nc.get_units(var)\n",
    "    col_bar = fig.colorbar(out)\n",
    "    col_bar.set_label(f\"{var} ({units})\")\n"
   ]
  },
  {
   "cell_type": "markdown",
   "metadata": {},
   "source": [
    "Note we have just plotted this for $C$, but we could also investigate $N$ or $P$ specific process rates as well."
   ]
  },
  {
   "cell_type": "markdown",
   "metadata": {},
   "source": [
    "The phytoplankton module has numerous options, which can be explored [here in the AED manual](https://aquaticecodynamics.github.io/aed-science/phytoplankton.html). <br>\n",
    "\n",
    "Options to consider when configuring a phytoplankton simulation:\n",
    "- Temperature optimum and maximum\n",
    "- Light limitation : photo-inhibited or non-photoinhibited\n",
    "- Nutrient stoichiometry : fixed C:N:P or luxury internal storage\n",
    "- Settling or migration : Constant, Stoke’s , Internal Buoyancy, Motility\n",
    "- Microphytobenthos (MPB) pool"
   ]
  },
  {
   "cell_type": "markdown",
   "metadata": {},
   "source": [
    "____ \n",
    "### Case 5 : Now let's add multiple phytoplankton groups -> Phytoplankton Functional Groups"
   ]
  },
  {
   "cell_type": "markdown",
   "metadata": {},
   "source": [
    "The above case had one group of phytoplankton. For convenience we called it \"cyano\" but it was essentially acting as a \"bulk\" assemblage of many species."
   ]
  },
  {
   "cell_type": "markdown",
   "metadata": {},
   "source": [
    "In this case we explore the concept of PFT's : phytoplankton functional groups. To do this we enable 3 different groups."
   ]
  },
  {
   "cell_type": "markdown",
   "metadata": {},
   "source": [
    "Open the `aed_case5.json` and review the `num_phytos` parameter. Note users can now select any species from the phytoplankton database (`aed_phyto_pars.csv`). This is done by setting the `the_phytos` list. e.g., \n",
    "<br>\n",
    "<br>\n",
    "`the_phytos = 1,2,3`\n",
    "<br>\n",
    "<br>\n",
    "asks the model to configure the 3 groups called `cyano`, `green`, and `diatom`. "
   ]
  },
  {
   "cell_type": "code",
   "execution_count": null,
   "metadata": {},
   "outputs": [],
   "source": [
    "nml_file = nml.NMLReader(\"case_studies/aed_case5.json\")\n",
    "aed_nml_obj = nml_file.to_nml_obj(aed_nml.AEDNML)\n",
    "sparkling.nml[\"aed\"] = aed_nml_obj\n",
    "sparkling.aed_dbase = [\"case_studies/aed_phyto_pars.csv\"]\n",
    "sparkling.get_param_value(\"aed\", \"aed_models\", \"models\")"
   ]
  },
  {
   "cell_type": "code",
   "execution_count": null,
   "metadata": {},
   "outputs": [],
   "source": [
    "sparkling.sim_name = \"case_5\""
   ]
  },
  {
   "cell_type": "code",
   "execution_count": null,
   "metadata": {},
   "outputs": [],
   "source": [
    "sparkling.run(time_sim=True, write_log=True)"
   ]
  },
  {
   "cell_type": "code",
   "execution_count": null,
   "metadata": {},
   "outputs": [],
   "source": [
    "nc.glm_nc = \"case_5/output/output.nc\"\n",
    "nc.get_profile_vars()"
   ]
  },
  {
   "cell_type": "code",
   "execution_count": null,
   "metadata": {},
   "outputs": [],
   "source": [
    "plot_vars = ['PHY_tphy', 'PHY_cyano', 'PHY_green','PHY_diatom']\n",
    "fig, axs = plt.subplots(nrows=4, ncols=1, figsize=(10, 10))\n",
    "for idx, var, in enumerate(plot_vars):\n",
    "    out = nc.plot_var_profile(axs[idx], var)\n",
    "    long_name = nc.get_long_name(var)\n",
    "    units = nc.get_units(var)\n",
    "    col_bar = fig.colorbar(out)\n",
    "    col_bar.set_label(f\"{var} ({units})\")"
   ]
  },
  {
   "cell_type": "markdown",
   "metadata": {},
   "source": [
    "Using our knowledge of limitation functions, lets explore how the different species are responding to temperature:"
   ]
  },
  {
   "cell_type": "code",
   "execution_count": null,
   "metadata": {},
   "outputs": [],
   "source": [
    "plot_vars = ['PHY_tphy', 'PHY_cyano_fT', 'PHY_green_fT','PHY_diatom_fT']\n",
    "fig, axs = plt.subplots(nrows=4, ncols=1, figsize=(10, 10))\n",
    "for idx, var, in enumerate(plot_vars):\n",
    "    out = nc.plot_var_profile(axs[idx], var)\n",
    "    long_name = nc.get_long_name(var)\n",
    "    units = nc.get_units(var)\n",
    "    col_bar = fig.colorbar(out)\n",
    "    col_bar.set_label(f\"{var}\")"
   ]
  },
  {
   "cell_type": "markdown",
   "metadata": {},
   "source": [
    "____ \n",
    "### Case 6 : Add zooplankton groups -> Predator-Prey Dynamics"
   ]
  },
  {
   "cell_type": "code",
   "execution_count": null,
   "metadata": {},
   "outputs": [],
   "source": [
    "nml_file = nml.NMLReader(\"case_studies/aed_case6.json\")\n",
    "aed_nml_obj = nml_file.to_nml_obj(aed_nml.AEDNML)\n",
    "sparkling.set_nml(aed_nml_obj)\n",
    "sparkling.aed_dbase = [\n",
    "    \"case_studies/aed_phyto_pars.csv\", \"case_studies/aed_zoop_pars.csv\"\n",
    "]\n",
    "sparkling.get_param_value(\"aed\", \"aed_models\", \"models\")"
   ]
  },
  {
   "cell_type": "code",
   "execution_count": null,
   "metadata": {},
   "outputs": [],
   "source": [
    "output = glm_nml.OutputBlock(\n",
    "    out_dir=\"output\",\n",
    "    out_fn=\"output\",\n",
    "    nsave=24,\n",
    "    csv_lake_fname=\"lake\",\n",
    "    csv_point_nlevs=2,\n",
    "    csv_point_fname=\"WQ_\",\n",
    "    csv_point_at=[3.0, 17.0],  # One at the top and one at the bottom\n",
    "    csv_point_nvars=6,\n",
    "    csv_point_vars=[\"temp\", \"salt\", \"OXY_oxy\", \"PHY_tchla\", \"PHS_frp\", \"ZOO_cladoceran\"],\n",
    ")\n",
    "sparkling.set_block(nml_name=\"glm\", block=output)"
   ]
  },
  {
   "cell_type": "code",
   "execution_count": null,
   "metadata": {},
   "outputs": [],
   "source": [
    "sparkling.sim_name = \"case_6\""
   ]
  },
  {
   "cell_type": "code",
   "execution_count": null,
   "metadata": {},
   "outputs": [],
   "source": [
    "sparkling.run(time_sim=True, write_log=True)"
   ]
  },
  {
   "cell_type": "code",
   "execution_count": null,
   "metadata": {},
   "outputs": [],
   "source": [
    "nc.glm_nc = \"case_6/output/output.nc\"\n",
    "nc.get_profile_vars()"
   ]
  },
  {
   "cell_type": "markdown",
   "metadata": {},
   "source": [
    "Let's compare the $Z$ prey ($PHY$ and $POC$) and the $Z$ groups over time ... what do you notice about the different groups?"
   ]
  },
  {
   "cell_type": "code",
   "execution_count": null,
   "metadata": {},
   "outputs": [],
   "source": [
    "plot_vars = ['PHY_tphy','OGM_poc', 'ZOO_cladoceran', 'ZOO_rotifer','ZOO_copepod']\n",
    "fig, axs = plt.subplots(nrows=5, ncols=1, figsize=(10, 12))\n",
    "for idx, var, in enumerate(plot_vars):\n",
    "    out = nc.plot_var_profile(axs[idx], var)\n",
    "    long_name = nc.get_long_name(var)\n",
    "    units = nc.get_units(var)\n",
    "    col_bar = fig.colorbar(out)\n",
    "    col_bar.set_label(f\"{var}\")"
   ]
  },
  {
   "cell_type": "markdown",
   "metadata": {},
   "source": [
    "We can now look at the zooplankton commmunity carbon fluxes, grazing $GRZ$, respiration $RSP$ and mortality $MOR$ ..."
   ]
  },
  {
   "cell_type": "code",
   "execution_count": null,
   "metadata": {},
   "outputs": [],
   "source": [
    "plot_vars = ['ZOO_grz', 'ZOO_resp','ZOO_mort']\n",
    "fig, axs = plt.subplots(nrows=3, ncols=1, figsize=(10, 8))\n",
    "for idx, var, in enumerate(plot_vars):\n",
    "    out = nc.plot_var_profile(axs[idx], var)\n",
    "    long_name = nc.get_long_name(var)\n",
    "    units = nc.get_units(var)\n",
    "    col_bar = fig.colorbar(out)\n",
    "    col_bar.set_label(f\"{var}\")"
   ]
  },
  {
   "cell_type": "markdown",
   "metadata": {},
   "source": [
    "### Case 7 : Add a benthic macrophyte group "
   ]
  },
  {
   "cell_type": "code",
   "execution_count": null,
   "metadata": {},
   "outputs": [],
   "source": [
    "nml_file = nml.NMLReader(\"case_studies/aed_case7.json\")\n",
    "aed_nml_obj = nml_file.to_nml_obj(aed_nml.AEDNML)\n",
    "sparkling.set_nml(aed_nml_obj)\n",
    "sparkling.aed_dbase = [\n",
    "    \"case_studies/aed_phyto_pars.csv\", \"case_studies/aed_zoop_pars.csv\", \"case_studies/aed_macrophyte_pars.csv\",\n",
    "]\n",
    "sparkling.get_param_value(\"aed\", \"aed_models\", \"models\")"
   ]
  },
  {
   "cell_type": "code",
   "execution_count": null,
   "metadata": {},
   "outputs": [],
   "source": [
    "sparkling.sim_name = \"case_7\""
   ]
  },
  {
   "cell_type": "code",
   "execution_count": null,
   "metadata": {},
   "outputs": [],
   "source": [
    "sparkling.run(time_sim=True, write_log=True)"
   ]
  },
  {
   "cell_type": "code",
   "execution_count": null,
   "metadata": {},
   "outputs": [],
   "source": [
    "nc.glm_nc = \"case_7/output/output.nc\"\n",
    "nc.get_profile_vars()"
   ]
  },
  {
   "cell_type": "markdown",
   "metadata": {},
   "source": [
    "Let's first remind ourselves what the light climate looks like within the lake:"
   ]
  },
  {
   "cell_type": "code",
   "execution_count": null,
   "metadata": {},
   "outputs": [],
   "source": [
    "var = \"PHY_par\"\n",
    "fig, ax = plt.subplots(figsize=(10, 3))\n",
    "plot_params = {\"vmin\": 0, \"vmax\": 550}\n",
    "out = nc.plot_var_profile(ax=ax, var=var, param_dict=plot_params)\n",
    "col_bar = fig.colorbar(out)\n",
    "\n",
    "var_long_name = nc.get_long_name(var)\n",
    "var_units = nc.get_units(var)\n",
    "col_bar.set_label(f\"{var_long_name} ({var_units})\")"
   ]
  },
  {
   "cell_type": "markdown",
   "metadata": {},
   "source": [
    "Now, in the Case 7 simulation we can inspect the benthic zone variables, and see the $MAC$ module ones:"
   ]
  },
  {
   "cell_type": "code",
   "execution_count": null,
   "metadata": {},
   "outputs": [],
   "source": [
    "nc.get_zone_vars()"
   ]
  },
  {
   "cell_type": "markdown",
   "metadata": {},
   "source": [
    "Now we can create a simple line plot of the the $MAC$ biomass in each zone:"
   ]
  },
  {
   "cell_type": "code",
   "execution_count": null,
   "metadata": {},
   "outputs": [],
   "source": [
    "fig, ax = plt.subplots(figsize=(10, 5))\n",
    "nc.plot_var_zone(ax=ax, var=\"MAC_mac_ben_Z\", zone=1, param_dict={\"label\": \"Zone 1\"})\n",
    "nc.plot_var_zone(ax, \"MAC_mac_ben_Z\", 2, {\"label\": \"Zone 2\"})\n",
    "nc.plot_var_zone(ax, \"MAC_mac_ben_Z\", 3, {\"label\": \"Zone 3\"})\n",
    "ax.legend()"
   ]
  },
  {
   "cell_type": "markdown",
   "metadata": {},
   "source": [
    "____ \n",
    "### Scenario (case) comparison using the depth specific csv plot"
   ]
  },
  {
   "cell_type": "markdown",
   "metadata": {},
   "source": [
    "If we want to compare two or more simulations, we can take advantage of GLM's depth-specific CSV file. The `WQPlotter` class is used for plotting these depth specific CSV outputs, which were set to the name of `WQ_z` in our sim, where z is the output depth:"
   ]
  },
  {
   "cell_type": "code",
   "execution_count": null,
   "metadata": {},
   "outputs": [],
   "source": [
    "wq = plots.WQPlotter(\"case_1/output/WQ_3.csv\")\n",
    "wq.get_vars()"
   ]
  },
  {
   "cell_type": "code",
   "execution_count": null,
   "metadata": {},
   "outputs": [],
   "source": [
    "wq = plots.WQPlotter(\"case_3/output/WQ_17.csv\")\n",
    "wq.get_vars()"
   ]
  },
  {
   "cell_type": "markdown",
   "metadata": {},
   "source": [
    "To compare all 7 case studies, iteratively update the `wq_csv` attribute to the output CSV path and call the `plot_var` method. Configure a legend by passing a dictionary containing the `label` keyword argument to matplotlib's plot method via `param_dict`."
   ]
  },
  {
   "cell_type": "markdown",
   "metadata": {},
   "source": [
    "Let's compare $O_2$ first:"
   ]
  },
  {
   "cell_type": "code",
   "execution_count": null,
   "metadata": {},
   "outputs": [],
   "source": [
    "fig, ax = plt.subplots(figsize=(10, 5))\n",
    "wq = plots.WQPlotter()\n",
    "for i in range(1, 8):\n",
    "    wq.wq_csv = f\"case_{i}/output/WQ_3.csv\"             # BOTTOM\n",
    "    wq.plot_var(ax, \"OXY_oxy\", {\"label\": f\"Case {i}\"})  # OXYGEN\n",
    "ax.legend()"
   ]
  },
  {
   "cell_type": "markdown",
   "metadata": {},
   "source": [
    "Now let's compare $Chl-a$ between cases 3 to 6:"
   ]
  },
  {
   "cell_type": "code",
   "execution_count": null,
   "metadata": {},
   "outputs": [],
   "source": [
    "fig, ax = plt.subplots(figsize=(10, 5))\n",
    "wq = plots.WQPlotter()\n",
    "for i in range(3, 7):\n",
    "    wq.wq_csv = f\"case_{i}/output/WQ_17.csv\"              # SURFACE \n",
    "    wq.plot_var(ax, \"PHY_tchla\", {\"label\": f\"Case {i}\"})  # CHL-A\n",
    "ax.legend()"
   ]
  },
  {
   "cell_type": "markdown",
   "metadata": {},
   "source": [
    "So these plots help show how common decisions we have to make about model structural complexity can influence even primary water quality variables like $O_2$ and $Chl-a$ !!!"
   ]
  },
  {
   "cell_type": "markdown",
   "metadata": {},
   "source": [
    "____ \n",
    "### Make your own setup!"
   ]
  },
  {
   "cell_type": "markdown",
   "metadata": {},
   "source": [
    "Now we have worked through how to navigate a simulation in glm-py, use this SparklingSim to explore some new questions about lake ecosystem dynamics. Contemplate some questions and add some new `code` blocks below to configure, run and plot some new simulation ideas!"
   ]
  },
  {
   "cell_type": "markdown",
   "metadata": {},
   "source": []
  }
 ],
 "metadata": {
  "kernelspec": {
   "display_name": "Python 3.9.6 64-bit",
   "language": "python",
   "name": "python3"
  },
  "language_info": {
   "codemirror_mode": {
    "name": "ipython",
    "version": 3
   },
   "file_extension": ".py",
   "mimetype": "text/x-python",
   "name": "python",
   "nbconvert_exporter": "python",
   "pygments_lexer": "ipython3",
   "version": "3.9.6"
  },
  "vscode": {
   "interpreter": {
    "hash": "31f2aee4e71d21fbe5cf8b01ff0e069b9275f58929596ceb00d14d90e3e16cd6"
   }
  }
 },
 "nbformat": 4,
 "nbformat_minor": 2
}
